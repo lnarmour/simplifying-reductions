{
 "cells": [
  {
   "cell_type": "markdown",
   "id": "4bae8ae7",
   "metadata": {},
   "source": [
    "This entire notebook is just a sketch of how the recursive algorithm ought to behave. It uses the ISL python bindings and polylib to construct the face lattice.\n",
    "\n",
    "# Table of Contents\n",
    "\n",
    "* Helper functions\n",
    "* Actual algorithm\n",
    "* Manual example"
   ]
  },
  {
   "cell_type": "markdown",
   "id": "f1b9a8a1",
   "metadata": {},
   "source": [
    "# Helper functions"
   ]
  },
  {
   "cell_type": "code",
   "execution_count": 1,
   "id": "bc8ba272",
   "metadata": {
    "scrolled": false
   },
   "outputs": [],
   "source": [
    "from face_lattice import *   # this is my implementation of Loechner & Wilde's ScanFaces algorithm\n",
    "from islpy import *\n",
    "from functools import reduce\n",
    "from copy import deepcopy"
   ]
  },
  {
   "cell_type": "markdown",
   "id": "3d0809fa",
   "metadata": {},
   "source": [
    "#### `inverse(op)`\n",
    "Given an operation `op`, return its inverse. This is just hardcoded with '+' and 'max' for now."
   ]
  },
  {
   "cell_type": "code",
   "execution_count": 2,
   "id": "4fc0a36d",
   "metadata": {
    "scrolled": false
   },
   "outputs": [],
   "source": [
    "def inverse(op):\n",
    "    store = {\n",
    "        '+': '-',\n",
    "        'max': None,\n",
    "        # ...\n",
    "    }\n",
    "    if op not in store:\n",
    "        raise Exception('Operator \"{}\" not supported yet.'.format(op))\n",
    "    return store[op]"
   ]
  },
  {
   "cell_type": "markdown",
   "id": "0402a4d4",
   "metadata": {},
   "source": [
    "#### `ker_from_map(f)`\n",
    "Given an ISL map `f`, return the ISL set of points in the null space of `f`"
   ]
  },
  {
   "cell_type": "code",
   "execution_count": 3,
   "id": "4d723caa",
   "metadata": {
    "scrolled": false
   },
   "outputs": [
    {
     "name": "stdout",
     "output_type": "stream",
     "text": [
      "ex1: { [i0, i1, i2] : i0 = 0 }\n",
      "ex2: { [i0, i1, i2] : i0 = 0 and i2 = 0 }\n",
      "ex3: { [i0, i1, i2] : i2 = -i0 }\n"
     ]
    }
   ],
   "source": [
    "def ker_from_map(f):\n",
    "    if type(f) == str:\n",
    "        f = BasicMap(f)\n",
    "    mat = []\n",
    "    for c in f.get_constraints():\n",
    "        vars = c.get_var_dict()\n",
    "        index_vals = [-1 * int(c.get_coefficient_val(v[0], v[1]).to_str()) for k, v in vars.items() if\n",
    "                      v[0] != dim_type.param]\n",
    "        mat.append(index_vals)\n",
    "    mat = np.array(mat)\n",
    "    \n",
    "    indices = ','.join(['i{}'.format(i) for i in range(len(mat[0, :]))])\n",
    "    constraints = []\n",
    "    for c in mat:\n",
    "        constraints.append(\n",
    "            '+'.join(['{}{}'.format(a[0], a[1]) for a in zip(c, indices.split(','))]) + '=0')\n",
    "    s = '{{[{}] : {}}}'.format(indices, ' and '.join(constraints))\n",
    "    return BasicSet(s)\n",
    "\n",
    "# examples\n",
    "print('ex1: {}'.format(ker_from_map('{[i,j,k]->[i]}')))\n",
    "print('ex2: {}'.format(ker_from_map('{[i,j,k]->[i,k]}')))\n",
    "print('ex3: {}'.format(ker_from_map('{[i,j,k]->[i+k]}')))"
   ]
  },
  {
   "cell_type": "markdown",
   "id": "bd3f842c",
   "metadata": {},
   "source": [
    "#### `ker_from_facet_normal(facet, C)`\n",
    "Given a facet `facet` (i.e., set of rows indices from `C` that are saturated), return the ISL set of points in the null space of the vector normal to the facet. \n",
    "\n",
    "For example, consider the $i=0$ face from the following set (3D cube),\n",
    "\n",
    "$$ \\{[i,j,k] : 0 \\le i,j,k \\le 100\\} $$\n",
    "\n",
    "The normal vector to the $i=0$ face is $[1,0,0]$ (and is equivalent to the vector representation of this constraint), therefore the null space is given by the set,\n",
    "\n",
    "$$ \\{[i,j,k] : i=0 \\} $$\n",
    "\n",
    "These are the points \"in the facet\"."
   ]
  },
  {
   "cell_type": "code",
   "execution_count": 4,
   "id": "cb3febf6",
   "metadata": {
    "scrolled": false
   },
   "outputs": [],
   "source": [
    "def ker_from_facet_normal(facet, parent, C):\n",
    "    np_C = np.array(C)\n",
    "    mat = np_C[np.array(list(facet-parent)),:-1]\n",
    "    indices = ','.join(['i{}'.format(i) for i in range(len(mat[0, :]))])\n",
    "    constraints = []\n",
    "    for c in mat:\n",
    "        constraints.append('+'.join(['{}{}'.format(a[0], a[1]) for a in zip(c, indices.split(','))]) + '=0')\n",
    "    s = '{{[{}] : {}}}'.format(indices, ' and '.join(constraints))\n",
    "    return BasicSet(s)"
   ]
  },
  {
   "cell_type": "markdown",
   "id": "679539dc",
   "metadata": {},
   "source": [
    "#### `is_strict(facet, fp, C)`\n",
    "Given a facet, represented by `facet` & `C`, and the projection function `fp`, determine whether the facet is considered a strict boundary. We'll call a facet a strict boundary if both of the following hold,\n",
    "\n",
    "$$ ker(f_{p}) \\cap ker(c) \\ne \\emptyset $$\n",
    "$$ ker(f_{p}) \\supseteq ker(c) $$"
   ]
  },
  {
   "cell_type": "code",
   "execution_count": 5,
   "id": "59260c23",
   "metadata": {
    "scrolled": false
   },
   "outputs": [],
   "source": [
    "def is_strict(facet, parent, fp, C):\n",
    "    ker_c = ker_from_facet_normal(facet, parent, C)\n",
    "    ker_fp = ker_from_map(fp)\n",
    "    return not ker_c.intersect(ker_fp).is_empty() and ker_fp.is_subset(ker_c)"
   ]
  },
  {
   "cell_type": "markdown",
   "id": "8426e375",
   "metadata": {},
   "source": [
    "#### `rho_from_labels(facets, C, labels, fd)`\n",
    "\n",
    "Given a labeling (i.e., list of labels `labels`) and dependence function `fd`, return a $\\rho$ that induces the labeling if possible. \n",
    "Each `facet` in `facets` is a set of indices of `C` that when saturated, describe the facet.\n",
    "Each `label` in `labels` is either the string 'ADD', 'INV', or 'SUB' (if operator admits an inverse).\n",
    "\n",
    "For example, if `facets = [{0,1},{0,2},{0,4}]` and `labels = ['ADD','ADD','INV']`, then the set that satifies the following constraints constitues the feasible space of valid $\\rho$,\n",
    "\n",
    "$$ \\rho \\cdot c_{0} > 0 $$\n",
    "$$ \\rho \\cdot c_{1} > 0 $$\n",
    "$$ \\rho \\cdot c_{2} = 0 $$\n",
    "\n",
    "where $c_{i}$ denotes the normal vector of the $i$'th facet. Here $i=0$ corresponds to `facets[0]`, or constraints 0 and 1 from `C`. And $i=1$ denotes `facets[1]` or constraints 0 and 2. The conditions '>', '=', or '<' are chosen based on the labels 'ADD', 'INV', and 'SUB' respectively. Additionally, $\\rho$ must be in the null space of the dependence function `fd`.\n",
    "\n",
    "If this set is not trivially empty then we conclude that the labeling is valid. Any $\\rho$ in the set is a valid $\\rho$ that induces these labels, and we can just select the first choice (via lexmin or lexmax). Otherwise it returns None."
   ]
  },
  {
   "cell_type": "code",
   "execution_count": 6,
   "id": "88d9c9fa",
   "metadata": {
    "scrolled": false
   },
   "outputs": [],
   "source": [
    "def rho_from_labels(faces, parent, Lp, C, labels, fd):\n",
    "    # check if this combo is possible given the feasible_rho\n",
    "    # c1     c2     c3\n",
    "    # 'ADD', 'ADD', 'INV'\n",
    "    # c1*rho>=0 and c2*rho>=0 and c3*rho=0  and in ker(fp) and it saturates current node\n",
    "    # {[i,j,k] : j>=0 and i-j-k>=0 and k=0  and i=0   }  <- is this empty?  if yes, then prune out this combo\n",
    "    # if no, then check that it's \"in ker(fp)\n",
    "    map = {'ADD': '>', 'INV': '=', 'SUB': '<'}\n",
    "    bsets = list()\n",
    "    bsets.append(Lp)\n",
    "    # must be in ker(fd)\n",
    "    bsets.append(ker_from_map(fd))\n",
    "\n",
    "    for face, label in zip(faces, labels):\n",
    "        # select constraints representing this face, and create the set according to its label\n",
    "        mat = C[np.array(list(face-parent)),:-1]\n",
    "        indices = ','.join(['i{}'.format(i) for i in range(len(mat[0,:]))])\n",
    "        constraints = []\n",
    "        for c in mat:\n",
    "            constraints.append('+'.join(['{}{}'.format(a[0],a[1]) for a in zip(c, indices.split(','))]) + '{}0'.format(map[label]))\n",
    "        s = '{{[{}] : {}}}'.format(indices, ' and '.join(constraints))\n",
    "        bsets.append(BasicSet(s))\n",
    "\n",
    "    # check that it's not trivially just the origin\n",
    "    origin = BasicSet('{{[{}]}}'.format(('0,'*(C.shape[1]-1))[:-1]))\n",
    "    result = reduce(lambda s0,s1: s0.intersect(s1), bsets)\n",
    "\n",
    "    feasible_rho = result - origin\n",
    "\n",
    "    if not feasible_rho:\n",
    "        return None\n",
    "\n",
    "    rho = list()\n",
    "    # either lexmin or lexmax, not sure yet how to determine upfront which one to use, so for now just try both\n",
    "    funcs = [feasible_rho.lexmin, feasible_rho.lexmax]\n",
    "    for func in funcs:\n",
    "        try:\n",
    "            func().foreach_point(rho.append)\n",
    "        except Exception:\n",
    "            continue\n",
    "        finally:\n",
    "            if rho:\n",
    "                break\n",
    "\n",
    "    if rho:\n",
    "        return rho[0]\n",
    "    else:\n",
    "        print('----WARN - there may be a valid rho, but not accessible by lexmin/lexmax')\n",
    "        return None"
   ]
  },
  {
   "cell_type": "markdown",
   "id": "17e3b01d",
   "metadata": {},
   "source": [
    "#### `enumerate_labels(facets, labels)`\n",
    "At each node in the face lattice, there are one or more facets that we potentially need to recurse into. This function just enumerates all possible labelings given the set of facets and the set of possible labels. If we have 4 facets and 3 possible labels, then there are $3^{4}$ combinations of labels."
   ]
  },
  {
   "cell_type": "code",
   "execution_count": 7,
   "id": "894db054",
   "metadata": {
    "scrolled": false
   },
   "outputs": [
    {
     "name": "stdout",
     "output_type": "stream",
     "text": [
      "['ADD', 'ADD', 'ADD']\n",
      "['ADD', 'ADD', 'INV']\n",
      "['ADD', 'INV', 'ADD']\n",
      "['ADD', 'INV', 'INV']\n",
      "['INV', 'ADD', 'ADD']\n",
      "['INV', 'ADD', 'INV']\n",
      "['INV', 'INV', 'ADD']\n",
      "['INV', 'INV', 'INV']\n"
     ]
    }
   ],
   "source": [
    "# convert base-10 number n to base-d\n",
    "def d_ary(d, n):\n",
    "    if n == 0:\n",
    "        return '0'\n",
    "    nums = []\n",
    "    while n:\n",
    "        n, r = divmod(n, d)\n",
    "        nums.append(str(r))\n",
    "    return ''.join(reversed(nums))\n",
    "\n",
    "def enumerate_labels(facets, labels):\n",
    "    LABEL = {i:labels[i] for i in range(len(labels))}\n",
    "    num_labels = len(labels)\n",
    "    num_facets = len(facets)\n",
    "    for i in range(num_labels ** num_facets):\n",
    "        labels = [LABEL[int(d_ary(num_labels, i).zfill(num_facets)[j])] for j in range(num_facets)]\n",
    "        yield labels\n",
    "\n",
    "# example, all possible combos of 3 facets with 2 labels (8 combos total)\n",
    "for labeling in enumerate_labels([{0},{1},{2}] , ['ADD','INV']):\n",
    "    print(labeling)"
   ]
  },
  {
   "cell_type": "markdown",
   "id": "219b8311",
   "metadata": {},
   "source": [
    "#### `prune_combos(label_combos)`\n",
    "\n",
    "At each node in the face lattice, we have a list of valid facet labels.  Some of these may be redundant.  Remove redundant valid combinations. Prefer configurations that require fewer overall recursive calls."
   ]
  },
  {
   "cell_type": "code",
   "execution_count": 8,
   "id": "8e408d3c",
   "metadata": {},
   "outputs": [
    {
     "data": {
      "text/plain": [
       "[['INV', 'ADD', 'INV', [1, 1, 0]], ['INV', 'INV', 'ADD', [1, 0, 0]]]"
      ]
     },
     "execution_count": 8,
     "metadata": {},
     "output_type": "execute_result"
    }
   ],
   "source": [
    "def prune_combos(label_combos):\n",
    "    combos = [[1 if l == 'ADD' else 0 for l in c[:-1]] for c in label_combos]\n",
    "    combos.sort(key=lambda c: np.sum(c), reverse=1)\n",
    "    # sort by combos with most ADD faces first\n",
    "    # discard a combo if its ADD faces can\n",
    "    ret = []\n",
    "    for i,combo in enumerate(combos):\n",
    "        _combo = np.array(combo)\n",
    "        for other in combos[i+1:]:\n",
    "            other = np.array(other)\n",
    "            _combo = _combo - other\n",
    "        if 1 in _combo:\n",
    "            ret.append(combo)\n",
    "    # TODO - return only label_combos rows that match ret\n",
    "    unique_combos = []\n",
    "    for lc in label_combos:\n",
    "        labels = [1 if l == 'ADD' else 0 for l in lc[:-1]]\n",
    "        if labels in ret:\n",
    "            unique_combos.append(lc)\n",
    "    return unique_combos\n",
    "\n",
    "prune_combos([['INV','ADD','ADD',[2,1,0]],\n",
    "              ['INV','ADD','INV',[1,1,0]],\n",
    "              ['INV','INV','ADD',[1,0,0]]])"
   ]
  },
  {
   "cell_type": "markdown",
   "id": "876c16ac",
   "metadata": {},
   "source": [
    "#### `point_to_vec(isl_point)`\n",
    "\n",
    "Take an `islpy._isl.Point` object and return it as a python list."
   ]
  },
  {
   "cell_type": "code",
   "execution_count": 9,
   "id": "958b66c4",
   "metadata": {},
   "outputs": [],
   "source": [
    "# take an isl_point obj and parse it as a vector\n",
    "# given {Point}{ [1, 1, 0] }\n",
    "# return [1, 1, 0]\n",
    "def point_to_vec(isl_point):\n",
    "    N = len(isl_point.get_var_dict())\n",
    "    vd = isl_point.get_var_dict()\n",
    "    vec = [int(isl_point.get_coordinate_val(vd[v][0], vd[v][1]).to_str()) for v in vd]\n",
    "    return vec"
   ]
  },
  {
   "cell_type": "markdown",
   "id": "a76409a8",
   "metadata": {},
   "source": [
    "#### `boundary_label(facet, parent, C, rho)`\n",
    "\n",
    "Given a chosen reuse vector (rho), determine whether or not a boundary facet is considered \"inward\" (i.e., initialization) or \"outward\". This is given by the dot product between rho and the facet normal vector."
   ]
  },
  {
   "cell_type": "code",
   "execution_count": 10,
   "id": "39b96f29",
   "metadata": {},
   "outputs": [],
   "source": [
    "def boundary_label(facet, parent, C, rho):\n",
    "    c_mat = C[np.array(list(facet-parent)), :-1]\n",
    "    rho_vec = point_to_vec(rho)\n",
    "    orientations = np.matmul(c_mat, rho_vec)\n",
    "    zero_vec = np.zeros(len(c_mat))\n",
    "    return 'inward' if orientations >= zero_vec else 'outward'"
   ]
  },
  {
   "cell_type": "markdown",
   "id": "c21f2d25",
   "metadata": {},
   "source": [
    "#### `get_Lp(node, C)`\n",
    "\n",
    "Get the effective linear space (Lp) of the node in the lattice.  This is theorem 2 from the 2006 paper, and is given by the intersection of the null spaces of each saturated constraint."
   ]
  },
  {
   "cell_type": "code",
   "execution_count": 11,
   "id": "8f9415c3",
   "metadata": {},
   "outputs": [],
   "source": [
    "def get_Lp(node, C):\n",
    "    # start with universe\n",
    "    Lp = BasicSet('{{[{}]}}'.format(','.join(['i{}'.format(i) for i in range(C.shape[1] - 1)])))\n",
    "    np_C = np.array(C)\n",
    "    for c in list(node):\n",
    "        mat = np_C[[c], :-1]\n",
    "        indices = ','.join(['i{}'.format(i) for i in range(len(mat[0, :]))])\n",
    "        constraints = []\n",
    "        for c in mat:\n",
    "            constraints.append('+'.join(['{}{}'.format(a[0], a[1]) for a in zip(c, indices.split(','))]) + '=0')\n",
    "        s = '{{[{}] : {}}}'.format(indices, ' and '.join(constraints))\n",
    "        Lp = Lp.intersect(BasicSet(s))\n",
    "    return Lp"
   ]
  },
  {
   "cell_type": "markdown",
   "id": "a1f22898",
   "metadata": {},
   "source": [
    "# Recursive Algorithm"
   ]
  },
  {
   "cell_type": "markdown",
   "id": "518e299c",
   "metadata": {},
   "source": [
    "Initial setup given an input reduction expression $R$ with body $E$,\n",
    "\n",
    "* Compute the context domain `s` of the reduction body\n",
    "* Construct the face lattice `lattice` from `s`\n",
    "* Initialize `fp` to the projection function of $R$\n",
    "* Let `k` denote the remaining number of dimensions of reuse available, initialize to the rank of the null space of the depdence function `fd` present in the expression $E$ of the reduction body (corrected for \"equalities\")\n",
    "* Initialize `node` to the root node in the face lattice\n",
    "* Call `simplify(k, fp, fd, node, lattice, C, legal_labels)`, (see below for descriptions of `C` and `legal_labels`)\n",
    "\n",
    "Define `simplify(k, fp, fd, node, lattice, C, legal_labels` where,\n",
    "* `k`, `fp`, `node`, and `lattice` are initialized as described above\n",
    "* `C` is the constraints matrix of the set `s`\n",
    "* `legal_labels` is either ['ADD','INV','SUB'] or ['ADD','INV'] if the reduction operation does or does not admit an inverse, respectively\n",
    "\n",
    "1. if `k == 0`, then return SUCCESS\n",
    "1. For each facet of the current node in the lattice, label as either a boundary or not `fp`\n",
    "1. Construct the list of candidate facets that potentially need to be recursed into, these are the non-boundary facets\n",
    "1. Enumerate all possible labelings and for each, construct the feasible space of legal reuse vectors $\\rho$ (see `rho_from_labels` above). If the space for a particular labeling is empty, then conclude that the labeling is impossible. If all labelings impossible then return FAILURE.\n",
    "1. Prune out redundant labelings.\n",
    "1. For all possible labelings, recurse into each 'ADD' facet with $k-1$ (to indicate that there is one less dimension of reuse avilable. For a given labeling, if the recursion into all facets is successful then save the labeling as successful. As long as we check all possible labelings at a given label, then we don't need to backtrack.\n",
    "1. If at least one labeling was successful then return SUCCESS and the set of all successful labelings else return FAILURE\n",
    "\n",
    "TODO - figure out how to navigate the infinite space of reduction decompositions.\n",
    "Try all possibilities (i.e., decomposition + no-decomposition) at each node, OR only do decomposition if no-decomposition fails.  But then think about how to incorporate all possible combinations.  Because it's possible that decomposition at one level will cause something else to fail at a lower level and/or vice-versa.  How to avoid backtracking."
   ]
  },
  {
   "cell_type": "code",
   "execution_count": 12,
   "id": "325a6e66",
   "metadata": {
    "scrolled": false
   },
   "outputs": [],
   "source": [
    "def simplify(k=None, fp_str=None, fd_str=None, node=None, lattice=None, C=None, legal_labels=None, rho=None):\n",
    "    def pprint(*args, **kwargs):\n",
    "        print('@{} '.format(set(node) if node else '{}'), end='')\n",
    "        print(*args, **kwargs)\n",
    "\n",
    "    pprint('STEP A.1 - if k==0 return else continue. k={}'.format(k))\n",
    "    if k == 0:\n",
    "        pprint()\n",
    "        pprint('Success - reached bottom, no more available dimensions of reuse.')\n",
    "        pprint()\n",
    "        return True\n",
    "    pprint()\n",
    "\n",
    "    fp = BasicMap(fp_str)\n",
    "    fd = BasicMap(fd_str)\n",
    "    pprint('node = {}'.format(set(node)))\n",
    "    pprint('fp = {}'.format(fp_str))\n",
    "    pprint('fd = {}'.format(fd_str))\n",
    "    pprint()\n",
    "\n",
    "    pprint('STEP A.2 - identify \"strict\" boundaries given fp')\n",
    "    pprint()\n",
    "    facets = list(lattice.graph.neighbors(node))\n",
    "    for facet in facets:\n",
    "        label = 'boundary' if is_strict(facet, node, fp, C) else ''\n",
    "        pprint(set(facet), label)\n",
    "    pprint()\n",
    "\n",
    "    pprint('STEP A.3 - construct list of candidate facets (i.e., non-boundary facets)')\n",
    "    pprint()\n",
    "    candidate_facets = [facet for facet in facets if not is_strict(facet, node, fp, C)]\n",
    "    pprint('candidate_facets = {}'.format([set(cf) for cf in candidate_facets]))\n",
    "    pprint()\n",
    "\n",
    "    pprint('STEP A.4 - determine all possible combos')\n",
    "    pprint()\n",
    "    label_combos = list()\n",
    "    header = ['{}'.format(set(f)) for f in candidate_facets]\n",
    "    pprint(header)\n",
    "    pprint('-' * len(str(header)))\n",
    "    # theorem 2\n",
    "    Lp = get_Lp(node, C)\n",
    "    for labels in enumerate_labels(candidate_facets, legal_labels):\n",
    "        rho = rho_from_labels(candidate_facets, node, Lp, C, labels, fd)\n",
    "        if rho:\n",
    "            label_combos.append(labels + [rho])\n",
    "            pprint('{}  possible -> rho = {}'.format(labels, rho))\n",
    "        else:\n",
    "            pprint('{}  impossible'.format(labels))\n",
    "    pprint()\n",
    "    if not label_combos:\n",
    "        pprint('FAILURE - no possible combos')\n",
    "        return False\n",
    "\n",
    "    pprint('STEP A.5 - prune out redundant possible combos')\n",
    "    pprint()\n",
    "    pprint(header)\n",
    "    pprint('-' * len(str(header)))\n",
    "    unique_label_combos = prune_combos(label_combos)\n",
    "    for combo in unique_label_combos:\n",
    "        labels,rho = combo[:-1],combo[-1]\n",
    "        pprint('{}  -> rho = {}'.format(labels, rho))\n",
    "    pprint()\n",
    "\n",
    "    pprint('STEP A.6 - incorporate boundary facets')\n",
    "    pprint()\n",
    "    boundary_facets = [f for f in facets if f not in candidate_facets]\n",
    "    header = '{} {}'.format(header, [str(set(bf)) for bf in boundary_facets])\n",
    "    pprint(header)\n",
    "    pprint('-' * len(str(header)))\n",
    "    full_label_combos = []\n",
    "    for combo in unique_label_combos:\n",
    "        labels,rho = combo[:-1],combo[-1]\n",
    "        boundary_labels = []\n",
    "        full_label_combo = deepcopy(labels)\n",
    "        for boundary_facet in boundary_facets:\n",
    "            bl = boundary_label(boundary_facet, node, C, rho)\n",
    "            boundary_labels.append(bl)\n",
    "            full_label_combo.append(bl)\n",
    "        pprint('{} {}  -> rho = {}'.format(labels, boundary_labels, rho))\n",
    "        full_label_combo.append(rho)\n",
    "        full_label_combos.append(full_label_combo)\n",
    "    pprint()\n",
    "\n",
    "    pprint('STEP A.7 - recurse into \"ADD\" and \"inward\" boundary facets')\n",
    "    pprint()\n",
    "    successful_combos = []\n",
    "    for combo in full_label_combos:\n",
    "        labels,rho = combo[:-1],combo[-1]\n",
    "        abort = None\n",
    "        for label,facet in zip(labels,candidate_facets + boundary_facets):\n",
    "            if label != 'ADD' and label != 'inward':\n",
    "                continue\n",
    "            pprint('recursing into {} facet'.format(set(facet)))\n",
    "            pprint()\n",
    "            ret = simplify(k=k-1, fp_str=fp_str, fd_str=fd_str, node=facet, lattice=lattice, C=C, legal_labels=legal_labels)\n",
    "            abort = not ret\n",
    "            if abort:\n",
    "                break\n",
    "            # TODO - figure out how to propagate the success back up the recusion\n",
    "            # TODO - likely, attach to the face lattice accordingly\n",
    "        if not abort:\n",
    "            successful_combos.append(combo)\n",
    "        pprint()\n",
    "    if len(successful_combos) == 0:\n",
    "        pprint('FAILURE - no successful combos')\n",
    "    pprint()\n",
    "\n",
    "    pprint('STEP B - todo...')\n",
    "    pprint()\n",
    "    # TODO - implement step 6b from Algorithm 2 in 2006 paper\n",
    "\n",
    "    pprint('STEP C - reduction decomposition - todo...')\n",
    "    pprint()\n",
    "    # TODO - figure out how to do the decomposition\n",
    "    # TODO - i.e., how to navigate the infinite space of decompositions\n",
    "\n",
    "    return successful_combos"
   ]
  },
  {
   "cell_type": "markdown",
   "id": "eae7c198",
   "metadata": {},
   "source": [
    "# Example 1\n",
    "\n",
    "Take the following AlphaZ program (based on the first example from the slides):\n",
    "\n",
    "```\n",
    "affine SR {N|}\n",
    "input\n",
    "    float X {i | 1<=i<=100};\n",
    "output\n",
    "    float Y {i | 1<=i<=100};\n",
    "let\n",
    "    Y = reduce(+, (i,j,k->i), {| 1<=j<=i-1 && 1<=k<=i-j } : (i,j,k->k)@X);\n",
    ".\n",
    "```\n",
    "\n",
    "It has the following operator (op), projection function ($f_{p}$), body context domain (s) given be AlphaZ, and dependence function ($f_{d}$):"
   ]
  },
  {
   "cell_type": "code",
   "execution_count": 13,
   "id": "9cf348ca",
   "metadata": {
    "scrolled": false
   },
   "outputs": [],
   "source": [
    "op = 'max'\n",
    "fp = '{[i,j,k]->[i]}'\n",
    "s = '{[i,j,k] : j>=1 and i>=j+1 and k>=1 and i>=j+k and 0>=k-100 and i>=2 and 0>=i-100}'\n",
    "fd = '{[i,j,k]->[k]}'"
   ]
  },
  {
   "cell_type": "markdown",
   "id": "9990ff4c",
   "metadata": {},
   "source": [
    "### Step 1 - construct the face lattice\n"
   ]
  },
  {
   "cell_type": "code",
   "execution_count": 33,
   "id": "025ac3f7",
   "metadata": {
    "scrolled": false
   },
   "outputs": [
    {
     "name": "stdout",
     "output_type": "stream",
     "text": [
      "{[i,j,k] : j>=1 and i>=j and k>=1 and 0>=i+k-100 and 0>=k-100 and 0>=j-100 and 0>=i-99 and i>=1}\n",
      "\n",
      "C_hat (constraints):\n",
      "[[  1  -1   0   0]\t\t{ [i, j, k] : i - j >= 0 }\n",
      " [  0   0   1  -1]\t\t{ [i, j, k] : -1 + k >= 0 }\n",
      " [  0   1   0  -1]\t\t{ [i, j, k] : -1 + j >= 0 }\n",
      " [ -1   0  -1 100]\t\t{ [i, j, k] : 100 - i - k >= 0 }\n",
      " [  0   0   0   1]]\t\t\n",
      "\n",
      "R_hat (rays/vertices):\n",
      "[[ 1 99  1 99]\n",
      " [ 1 99  1  1]\n",
      " [ 1  1 99  1]\n",
      " [ 1  1  1  1]]\n",
      "\n",
      "Dimension:\n",
      "3\n",
      "\n",
      "3-faces: [{}]\n",
      "2-faces: [{0}, {1}, {2}, {3}]\n",
      "1-faces: [{0, 1}, {0, 2}, {0, 3}, {1, 2}, {1, 3}, {2, 3}]\n",
      "0-faces: [{0, 1, 2}, {0, 1, 3}, {0, 2, 3}, {1, 2, 3}]\n",
      "\n"
     ]
    }
   ],
   "source": [
    "#C, lattice, bset, dim_P = face_lattice(s)"
   ]
  },
  {
   "cell_type": "code",
   "execution_count": 35,
   "id": "a160235b",
   "metadata": {},
   "outputs": [
    {
     "name": "stdout",
     "output_type": "stream",
     "text": [
      "{[i,j,k] : j>=1 and i>=j and k>=1 and 0>=i+k-100 and 0>=k-100 and 0>=j-100 and 0>=i-99 and i>=1}\n",
      "\n",
      "C_hat (constraints):\n",
      "[[  1  -1   0   0]\t\t{ [i, j, k] : i - j >= 0 }\n",
      " [  0   0   1  -1]\t\t{ [i, j, k] : -1 + k >= 0 }\n",
      " [  0   1   0  -1]\t\t{ [i, j, k] : -1 + j >= 0 }\n",
      " [ -1   0  -1 100]\t\t{ [i, j, k] : 100 - i - k >= 0 }\n",
      " [  0   0   0   1]]\t\t\n",
      "\n",
      "R_hat (rays/vertices):\n",
      "[[ 1 99  1 99]\n",
      " [ 1 99  1  1]\n",
      " [ 1  1 99  1]\n",
      " [ 1  1  1  1]]\n",
      "\n",
      "Dimension:\n",
      "3\n",
      "\n",
      "3-faces: [{}]\n",
      "2-faces: [{0}, {1}, {2}, {3}]\n",
      "1-faces: [{0, 1}, {0, 2}, {0, 3}, {1, 2}, {1, 3}, {2, 3}]\n",
      "0-faces: [{0, 1, 2}, {0, 1, 3}, {0, 2, 3}, {1, 2, 3}]\n",
      "\n",
      "[[  1  -1   0   0]\n",
      " [  0   0   1  -1]\n",
      " [  0   1   0  -1]\n",
      " [ -1   0  -1 100]]\n",
      "{0} W\n",
      "{1} W\n",
      "{2} W\n",
      "{3} W\n"
     ]
    }
   ],
   "source": [
    "def boundary_label(facet, parent, fp, C):\n",
    "    ker_c = ker_from_facet_normal(facet, parent, C)\n",
    "    ker_fp = ker_from_map(fp)\n",
    "    origin = BasicSet('{{[{}]}}'.format(('0,'*(C.shape[1]-1))[:-1]))\n",
    "    I = ker_c.intersect(ker_fp)\n",
    "    if (I - origin).is_empty():\n",
    "        return None\n",
    "    else:\n",
    "        return 'S' if ker_fp.is_subset(ker_c) else 'W'\n",
    "\n",
    "def show_which_facets_are_boundaries(fp):\n",
    "    facets = list(lattice.graph.neighbors(root))\n",
    "    for facet in facets:\n",
    "        print(set(facet), boundary_label(c1, root, fp, C))\n",
    "    \n",
    "C, lattice, bset, dim_P = face_lattice(s)\n",
    "root = lattice.get_root()\n",
    "facets = list(lattice.graph.neighbors(root))\n",
    "c0,c1,c2,c3 = facets\n",
    "print(C)\n",
    "show_which_facets_are_boundaries('{[i,j,k]->[i]}')"
   ]
  },
  {
   "cell_type": "markdown",
   "id": "4f3a9be9",
   "metadata": {},
   "source": [
    "### Step 2\n",
    "Determine the set of legal labels based on whether or not the operator admits an inverse"
   ]
  },
  {
   "cell_type": "code",
   "execution_count": 15,
   "id": "12e84ce0",
   "metadata": {
    "scrolled": false
   },
   "outputs": [
    {
     "name": "stdout",
     "output_type": "stream",
     "text": [
      "op = max\n",
      "['ADD', 'INV']\n"
     ]
    }
   ],
   "source": [
    "legal_labels = ['ADD', 'INV']\n",
    "if inverse(op):\n",
    "    legal_labels.append('SUB')\n",
    "       \n",
    "print('op = {}'.format(op))\n",
    "print(legal_labels)"
   ]
  },
  {
   "cell_type": "markdown",
   "id": "535dbce8",
   "metadata": {},
   "source": [
    "### Step 3\n",
    "Get the root node from the lattice"
   ]
  },
  {
   "cell_type": "code",
   "execution_count": 16,
   "id": "382d22db",
   "metadata": {
    "scrolled": false
   },
   "outputs": [
    {
     "name": "stdout",
     "output_type": "stream",
     "text": [
      "set()\n"
     ]
    }
   ],
   "source": [
    "root = lattice.get_root()\n",
    "print(set(root))"
   ]
  },
  {
   "cell_type": "markdown",
   "id": "9651e6de",
   "metadata": {},
   "source": [
    "### Step 4\n",
    "Start the recursion at the root node"
   ]
  },
  {
   "cell_type": "code",
   "execution_count": 17,
   "id": "d2c64a2c",
   "metadata": {
    "scrolled": false
   },
   "outputs": [
    {
     "name": "stdout",
     "output_type": "stream",
     "text": [
      "@{} STEP A.1 - if k==0 return else continue. k=2\n",
      "@{} \n",
      "@{} node = set()\n",
      "@{} fp = {[i,j,k]->[i]}\n",
      "@{} fd = {[i,j,k]->[k]}\n",
      "@{} \n",
      "@{} STEP A.2 - identify \"strict\" boundaries given fp\n",
      "@{} \n",
      "@{} {0} \n",
      "@{} {1} boundary\n",
      "@{} {2} \n",
      "@{} {3} \n",
      "@{} \n",
      "@{} STEP A.3 - construct list of candidate facets (i.e., non-boundary facets)\n",
      "@{} \n",
      "@{} candidate_facets = [{0}, {2}, {3}]\n",
      "@{} \n",
      "@{} STEP A.4 - determine all possible combos\n",
      "@{} \n",
      "@{} ['{0}', '{2}', '{3}']\n",
      "@{} ---------------------\n",
      "@{} ['ADD', 'ADD', 'ADD']  impossible\n",
      "@{} ['ADD', 'ADD', 'INV']  impossible\n",
      "@{} ['ADD', 'INV', 'ADD']  impossible\n",
      "@{} ['ADD', 'INV', 'INV']  impossible\n",
      "@{} ['INV', 'ADD', 'ADD']  possible -> rho = { [2, 1, 0] }\n",
      "@{} ['INV', 'ADD', 'INV']  possible -> rho = { [1, 1, 0] }\n",
      "@{} ['INV', 'INV', 'ADD']  possible -> rho = { [1, 0, 0] }\n",
      "@{} ['INV', 'INV', 'INV']  impossible\n",
      "@{} \n",
      "@{} STEP A.5 - prune out redundant possible combos\n",
      "@{} \n",
      "@{} ['{0}', '{2}', '{3}']\n",
      "@{} ---------------------\n",
      "@{} ['INV', 'ADD', 'INV']  -> rho = { [1, 1, 0] }\n",
      "@{} ['INV', 'INV', 'ADD']  -> rho = { [1, 0, 0] }\n",
      "@{} \n",
      "@{} STEP A.6 - incorporate boundary facets\n",
      "@{} \n",
      "@{} ['{0}', '{2}', '{3}'] ['{1}']\n",
      "@{} -----------------------------\n",
      "@{} ['INV', 'ADD', 'INV'] ['outward']  -> rho = { [1, 1, 0] }\n",
      "@{} ['INV', 'INV', 'ADD'] ['outward']  -> rho = { [1, 0, 0] }\n",
      "@{} \n",
      "@{} STEP A.7 - recurse into \"ADD\" and \"inward\" boundary facets\n",
      "@{} \n",
      "@{} recursing into {2} facet\n",
      "@{} \n",
      "@{2} STEP A.1 - if k==0 return else continue. k=1\n",
      "@{2} \n",
      "@{2} node = {2}\n",
      "@{2} fp = {[i,j,k]->[i]}\n",
      "@{2} fd = {[i,j,k]->[k]}\n",
      "@{2} \n",
      "@{2} STEP A.2 - identify \"strict\" boundaries given fp\n",
      "@{2} \n",
      "@{2} {0, 2} \n",
      "@{2} {1, 2} boundary\n",
      "@{2} {2, 3} \n",
      "@{2} \n",
      "@{2} STEP A.3 - construct list of candidate facets (i.e., non-boundary facets)\n",
      "@{2} \n",
      "@{2} candidate_facets = [{0, 2}, {2, 3}]\n",
      "@{2} \n",
      "@{2} STEP A.4 - determine all possible combos\n",
      "@{2} \n",
      "@{2} ['{0, 2}', '{2, 3}']\n",
      "@{2} --------------------\n",
      "@{2} ['ADD', 'ADD']  impossible\n",
      "@{2} ['ADD', 'INV']  impossible\n",
      "@{2} ['INV', 'ADD']  possible -> rho = { [1, 0, 0] }\n",
      "@{2} ['INV', 'INV']  impossible\n",
      "@{2} \n",
      "@{2} STEP A.5 - prune out redundant possible combos\n",
      "@{2} \n",
      "@{2} ['{0, 2}', '{2, 3}']\n",
      "@{2} --------------------\n",
      "@{2} ['INV', 'ADD']  -> rho = { [1, 0, 0] }\n",
      "@{2} \n",
      "@{2} STEP A.6 - incorporate boundary facets\n",
      "@{2} \n",
      "@{2} ['{0, 2}', '{2, 3}'] ['{1, 2}']\n",
      "@{2} -------------------------------\n",
      "@{2} ['INV', 'ADD'] ['outward']  -> rho = { [1, 0, 0] }\n",
      "@{2} \n",
      "@{2} STEP A.7 - recurse into \"ADD\" and \"inward\" boundary facets\n",
      "@{2} \n",
      "@{2} recursing into {2, 3} facet\n",
      "@{2} \n",
      "@{2, 3} STEP A.1 - if k==0 return else continue. k=0\n",
      "@{2, 3} \n",
      "@{2, 3} Success - reached bottom, no more available dimensions of reuse.\n",
      "@{2, 3} \n",
      "@{2} \n",
      "@{2} \n",
      "@{2} STEP B - todo...\n",
      "@{2} \n",
      "@{2} STEP C - reduction decomposition - todo...\n",
      "@{2} \n",
      "@{} \n",
      "@{} recursing into {3} facet\n",
      "@{} \n",
      "@{3} STEP A.1 - if k==0 return else continue. k=1\n",
      "@{3} \n",
      "@{3} node = {3}\n",
      "@{3} fp = {[i,j,k]->[i]}\n",
      "@{3} fd = {[i,j,k]->[k]}\n",
      "@{3} \n",
      "@{3} STEP A.2 - identify \"strict\" boundaries given fp\n",
      "@{3} \n",
      "@{3} {0, 3} \n",
      "@{3} {1, 3} boundary\n",
      "@{3} {2, 3} \n",
      "@{3} \n",
      "@{3} STEP A.3 - construct list of candidate facets (i.e., non-boundary facets)\n",
      "@{3} \n",
      "@{3} candidate_facets = [{0, 3}, {2, 3}]\n",
      "@{3} \n",
      "@{3} STEP A.4 - determine all possible combos\n",
      "@{3} \n",
      "@{3} ['{0, 3}', '{2, 3}']\n",
      "@{3} --------------------\n",
      "@{3} ['ADD', 'ADD']  impossible\n",
      "@{3} ['ADD', 'INV']  impossible\n",
      "@{3} ['INV', 'ADD']  possible -> rho = { [1, 1, 0] }\n",
      "@{3} ['INV', 'INV']  impossible\n",
      "@{3} \n",
      "@{3} STEP A.5 - prune out redundant possible combos\n",
      "@{3} \n",
      "@{3} ['{0, 3}', '{2, 3}']\n",
      "@{3} --------------------\n",
      "@{3} ['INV', 'ADD']  -> rho = { [1, 1, 0] }\n",
      "@{3} \n",
      "@{3} STEP A.6 - incorporate boundary facets\n",
      "@{3} \n",
      "@{3} ['{0, 3}', '{2, 3}'] ['{1, 3}']\n",
      "@{3} -------------------------------\n",
      "@{3} ['INV', 'ADD'] ['outward']  -> rho = { [1, 1, 0] }\n",
      "@{3} \n",
      "@{3} STEP A.7 - recurse into \"ADD\" and \"inward\" boundary facets\n",
      "@{3} \n",
      "@{3} recursing into {2, 3} facet\n",
      "@{3} \n",
      "@{2, 3} STEP A.1 - if k==0 return else continue. k=0\n",
      "@{2, 3} \n",
      "@{2, 3} Success - reached bottom, no more available dimensions of reuse.\n",
      "@{2, 3} \n",
      "@{3} \n",
      "@{3} \n",
      "@{3} STEP B - todo...\n",
      "@{3} \n",
      "@{3} STEP C - reduction decomposition - todo...\n",
      "@{3} \n",
      "@{} \n",
      "@{} \n",
      "@{} STEP B - todo...\n",
      "@{} \n",
      "@{} STEP C - reduction decomposition - todo...\n",
      "@{} \n"
     ]
    },
    {
     "data": {
      "text/plain": [
       "[['INV', 'ADD', 'INV', 'outward', Point(\"{ [1, 1, 0] }\")],\n",
       " ['INV', 'INV', 'ADD', 'outward', Point(\"{ [1, 0, 0] }\")]]"
      ]
     },
     "execution_count": 17,
     "metadata": {},
     "output_type": "execute_result"
    }
   ],
   "source": [
    "simplify(k=2, fp_str=fp, fd_str=fd, node=root, lattice=lattice, C=C, legal_labels=legal_labels)"
   ]
  },
  {
   "cell_type": "markdown",
   "id": "51041fdc",
   "metadata": {},
   "source": [
    "# Example 2\n",
    "\n",
    "Take the following AlphaZ program (based on Figure 2 from the 2006 paper & the second example from the slides):\n",
    "\n",
    "```\n",
    "affine SR {N|}\n",
    "input\n",
    "\tfloat X {i,j | 1<=i,j<=100};\n",
    "output\n",
    "\tfloat Y {i | 1<=i<=100};\n",
    "let\n",
    "\tY[i] = reduce(+, (i,j,k->i), {| 1<=j<=i && 1<=k<=100-i } : (i,j,k->j,k)@X);\n",
    ".\n",
    "```\n",
    "\n",
    "It has the following operator (op), projection function ($f_{p}$), body context domain (s) given be AlphaZ, and dependence function ($f_{d}$):"
   ]
  },
  {
   "cell_type": "code",
   "execution_count": 19,
   "id": "54ff33b3",
   "metadata": {
    "scrolled": false
   },
   "outputs": [],
   "source": [
    "op = 'max'\n",
    "fp = '{[i,j,k]->[i]}'\n",
    "s = '{[i,j,k] : j>=1 and i>=j and k>=1 and 0>=i+k-100 and 0>=k-100 and 0>=j-100 and 0>=i-99 and i>=1}'\n",
    "fd = '{[i,j,k]->[j,k]}'"
   ]
  },
  {
   "cell_type": "markdown",
   "id": "5c3b95a4",
   "metadata": {},
   "source": [
    "### Step 1 - construct the face lattice\n"
   ]
  },
  {
   "cell_type": "code",
   "execution_count": 20,
   "id": "eb9d14dd",
   "metadata": {},
   "outputs": [
    {
     "name": "stdout",
     "output_type": "stream",
     "text": [
      "{[i,j,k] : j>=1 and i>=j and k>=1 and 0>=i+k-100 and 0>=k-100 and 0>=j-100 and 0>=i-99 and i>=1}\n",
      "\n",
      "C_hat (constraints):\n",
      "[[  1  -1   0   0]\t\t{ [i, j, k] : i - j >= 0 }\n",
      " [  0   0   1  -1]\t\t{ [i, j, k] : -1 + k >= 0 }\n",
      " [  0   1   0  -1]\t\t{ [i, j, k] : -1 + j >= 0 }\n",
      " [ -1   0  -1 100]\t\t{ [i, j, k] : 100 - i - k >= 0 }\n",
      " [  0   0   0   1]]\t\t\n",
      "\n",
      "R_hat (rays/vertices):\n",
      "[[ 1 99  1 99]\n",
      " [ 1 99  1  1]\n",
      " [ 1  1 99  1]\n",
      " [ 1  1  1  1]]\n",
      "\n",
      "Dimension:\n",
      "3\n",
      "\n",
      "3-faces: [{}]\n",
      "2-faces: [{0}, {1}, {2}, {3}]\n",
      "1-faces: [{0, 1}, {0, 2}, {0, 3}, {1, 2}, {1, 3}, {2, 3}]\n",
      "0-faces: [{0, 1, 2}, {0, 1, 3}, {0, 2, 3}, {1, 2, 3}]\n",
      "\n"
     ]
    }
   ],
   "source": [
    "C, lattice, bset, dim_P = face_lattice(s)"
   ]
  },
  {
   "cell_type": "markdown",
   "id": "290138a0",
   "metadata": {},
   "source": [
    "### Step 2\n",
    "Determine the set of legal labels based on whether or not the operator admits an inverse"
   ]
  },
  {
   "cell_type": "code",
   "execution_count": 21,
   "id": "b727e101",
   "metadata": {
    "scrolled": false
   },
   "outputs": [
    {
     "name": "stdout",
     "output_type": "stream",
     "text": [
      "op = max\n",
      "['ADD', 'INV']\n"
     ]
    }
   ],
   "source": [
    "legal_labels = ['ADD', 'INV']\n",
    "if inverse(op):\n",
    "    legal_labels.append('SUB')\n",
    "       \n",
    "print('op = {}'.format(op))\n",
    "print(legal_labels)"
   ]
  },
  {
   "cell_type": "markdown",
   "id": "fc9200cd",
   "metadata": {},
   "source": [
    "### Step 3\n",
    "Get the root node from the lattice"
   ]
  },
  {
   "cell_type": "code",
   "execution_count": 22,
   "id": "51269be0",
   "metadata": {
    "scrolled": false
   },
   "outputs": [
    {
     "name": "stdout",
     "output_type": "stream",
     "text": [
      "set()\n"
     ]
    }
   ],
   "source": [
    "root = lattice.get_root()\n",
    "print(set(root))"
   ]
  },
  {
   "cell_type": "markdown",
   "id": "4ab46cd0",
   "metadata": {},
   "source": [
    "### Step 4\n",
    "Start the recursion at the root node"
   ]
  },
  {
   "cell_type": "code",
   "execution_count": 23,
   "id": "45d5b574",
   "metadata": {},
   "outputs": [],
   "source": [
    "#simplify(k=1, fp_str=fp, fd_str=fd, node=root, lattice=lattice, C=C, legal_labels=legal_labels)"
   ]
  },
  {
   "cell_type": "code",
   "execution_count": 24,
   "id": "8d1f9e0a",
   "metadata": {},
   "outputs": [
    {
     "name": "stdout",
     "output_type": "stream",
     "text": [
      "[[  1  -1   0   0]\n",
      " [  0   0   1  -1]\n",
      " [  0   1   0  -1]\n",
      " [ -1   0  -1 100]]\n",
      "{0} S\n",
      "{1} S\n",
      "{2} S\n",
      "{3} S\n"
     ]
    }
   ],
   "source": [
    "def boundary_label(facet, parent, fp, C):\n",
    "    ker_c = ker_from_facet_normal(facet, parent, C)\n",
    "    ker_fp = ker_from_map(fp)\n",
    "    origin = BasicSet('{{[{}]}}'.format(('0,'*(C.shape[1]-1))[:-1]))\n",
    "    I = ker_c.intersect(ker_fp)\n",
    "    if (I - origin).is_empty():\n",
    "        return None\n",
    "    else:\n",
    "        return 'S' if ker_fp.is_subset(ker_c) else 'W'\n",
    "\n",
    "def show_which_facets_are_boundaries(fp):\n",
    "    facets = list(lattice.graph.neighbors(root))\n",
    "    for facet in facets:\n",
    "        print(set(facet), boundary_label(c1, root, fp, C))\n",
    "    \n",
    "\n",
    "facets = list(lattice.graph.neighbors(root))\n",
    "c0,c1,c2,c3 = facets\n",
    "print(C)\n",
    "show_which_facets_are_boundaries('{[i,j,k]->[i,k]}')"
   ]
  },
  {
   "cell_type": "markdown",
   "id": "21fd37ac",
   "metadata": {},
   "source": [
    "Different projection functions result in different facets being considered as strict boundaries:"
   ]
  },
  {
   "cell_type": "markdown",
   "id": "91a2807e",
   "metadata": {},
   "source": [
    "### `simplify` with reduction decomposition\n",
    "\n",
    "Additional helper functions:"
   ]
  },
  {
   "cell_type": "code",
   "execution_count": 25,
   "id": "6d361d11",
   "metadata": {},
   "outputs": [],
   "source": [
    "# quick & dirty way to make the function look nice for 3D sets/maps\n",
    "# I don't want/need to (re)implement a general pretty printer\n",
    "# this is good enough for this POC here\n",
    "def clean(f):\n",
    "    ret = f.replace('i0', 'i').replace('i1', 'j').replace('i2', 'k')\n",
    "    ret = ret.replace('1', '')\n",
    "    ret = ret.replace('+-', '-')\n",
    "    ret = ret.replace('0i', '').replace('0j', '').replace('0k', '')\n",
    "    ret = ret.replace('++', '+')\n",
    "    ret = ret.replace('[+', '[')\n",
    "    ret = ret.replace('+]', ']')\n",
    "    ret = ret.replace(',+', ',')\n",
    "    ret = ret.replace('+,', ',')\n",
    "    return ret"
   ]
  },
  {
   "cell_type": "markdown",
   "id": "3579a763",
   "metadata": {},
   "source": [
    "#### `decompose_projection(combo, facets, parent, C)`\n",
    "\n",
    "Given a combination of boundary labelings, try to find the decomposition that leads to these labels.  Note this is not 100% correct at the moment.  This currently doesn't correctly differentiate between the following two cases:\n",
    "```\n",
    "case 1: ['B','B','B','B']\n",
    "case 2: ['B','-','B','B']\n",
    "```"
   ]
  },
  {
   "cell_type": "code",
   "execution_count": 26,
   "id": "6b3aec03",
   "metadata": {},
   "outputs": [
    {
     "name": "stdout",
     "output_type": "stream",
     "text": [
      "['B', 'B', 'B', 'B']  -->  {[i,j,k]->[k,j,i]}\n",
      "['B', '-', 'B', 'B']  -->  {[i,j,k]->[k,j,i]}\n"
     ]
    }
   ],
   "source": [
    "# this does what is described above\n",
    "def decompose_projection(combo, facets, parent, C):\n",
    "    bsets = []\n",
    "    for label,facet in zip(combo,facets):\n",
    "        if label != 'B':\n",
    "            continue\n",
    "        bsets.append(ker_from_facet_normal(facet, parent, C))\n",
    "\n",
    "    if not bsets:\n",
    "        return None\n",
    "\n",
    "    ker_fp1 = reduce(lambda s0, s1: s0.intersect(s1), bsets)\n",
    "    # construct fp1 from ker_fp1 equality constraints\n",
    "    ker_fp1_C, _ = make_constraints_matrix(ker_fp1, for_polylib=False)\n",
    "    fp1 = '{{{{[{}]->[{{}}]}}}}'.format(','.join(['i{}'.format(i) for i in range(C.shape[1] - 1)]))\n",
    "    pieces = []\n",
    "    for c in ker_fp1_C[:-1,:-1]:\n",
    "        indices = ','.join(['i{}'.format(i) for i in range(len(c))])\n",
    "        pieces.append('+'.join(['{}{}'.format(a[0], a[1]) for a in zip(c, indices.split(','))]))\n",
    "\n",
    "    rhs = ','.join(pieces)\n",
    "    fp1 = fp1.format(rhs)\n",
    "    return clean(fp1)\n",
    "\n",
    "# this isn't 100% correct yet, it doesn't exclude particular facets\n",
    "# I'm not sure how to do this yet\n",
    "facets = list(lattice.graph.neighbors(root))\n",
    "combo = ['B','B','B','B']\n",
    "print('{}  -->  {}'.format(combo, decompose_projection(combo, facets, root, C)))\n",
    "combo = ['B','-','B','B']\n",
    "print('{}  -->  {}'.format(combo, decompose_projection(combo, facets, root, C)))"
   ]
  },
  {
   "cell_type": "code",
   "execution_count": 27,
   "id": "9e092412",
   "metadata": {},
   "outputs": [],
   "source": [
    "# keep track of which decomposition choices have been explore to avoid infinite loop\n",
    "def add_exploration_to_lattice(fp, node, lattice):\n",
    "    if node not in lattice.explored:\n",
    "        lattice.explored[node] = set()\n",
    "    lattice.explored[node].add(fp)"
   ]
  },
  {
   "cell_type": "markdown",
   "id": "9297aae4",
   "metadata": {},
   "source": [
    "#### `simplify(...)`\n",
    "\n",
    "This is the modified recursive simplify function from above that now does both:\n",
    "* tries to find a reuse vector to exploit and recurse\n",
    "* peforms all possible reduction decompositions and recurse"
   ]
  },
  {
   "cell_type": "code",
   "execution_count": 28,
   "id": "02ff5c17",
   "metadata": {},
   "outputs": [],
   "source": [
    "def simplify(k=None, fp_str=None, fd_str=None, node=None, lattice=None, C=None, legal_labels=None, path=''):\n",
    "    def pprint(*args, **kwargs):\n",
    "        print('@{} '.format(set(node) if node else '{}'), end='')\n",
    "        print(*args, **kwargs)\n",
    "\n",
    "    successful_combos = []\n",
    "\n",
    "    pprint('STEP A.1 - if k==0 return else continue. k={}'.format(k))\n",
    "    if k == 0:\n",
    "        pprint()\n",
    "        pprint('Success - reached bottom, no more available dimensions of reuse.')\n",
    "        pprint('PATH: {}'.format(path))\n",
    "        pprint()\n",
    "        return True\n",
    "    pprint()\n",
    "\n",
    "    fp = BasicMap(fp_str)\n",
    "    fd = BasicMap(fd_str)\n",
    "    pprint('node = {}'.format(set(node)))\n",
    "    pprint('fp = {}'.format(fp_str))\n",
    "    pprint('fd = {}'.format(fd_str))\n",
    "    pprint()\n",
    "\n",
    "    pprint('STEP A.2 - identify \"strict\" boundaries given fp')\n",
    "    pprint()\n",
    "    facets = list(lattice.graph.neighbors(node))\n",
    "    for facet in facets:\n",
    "        label = 'boundary' if is_strict(facet, node, fp, C) else ''\n",
    "        pprint(set(facet), label)\n",
    "    pprint()\n",
    "\n",
    "    pprint('STEP A.3 - construct list of candidate facets (i.e., non-boundary facets)')\n",
    "    pprint()\n",
    "    candidate_facets = [facet for facet in facets if not is_strict(facet, node, fp, C)]\n",
    "    pprint('candidate_facets = {}'.format([set(cf) for cf in candidate_facets]))\n",
    "    pprint()\n",
    "\n",
    "    pprint('STEP A.4 - determine all possible combos')\n",
    "    pprint()\n",
    "    label_combos = list()\n",
    "    header = ['{}'.format(set(f)) for f in candidate_facets]\n",
    "    pprint(header)\n",
    "    pprint('-' * len(str(header)))\n",
    "    # theorem 2\n",
    "    Lp = get_Lp(node, C)\n",
    "    for labels in enumerate_labels(candidate_facets, legal_labels):\n",
    "        rho = rho_from_labels(candidate_facets, node, Lp, C, labels, fd)\n",
    "        if rho:\n",
    "            label_combos.append(labels + [rho])\n",
    "            pprint('{}  possible -> rho = {}'.format(labels, rho))\n",
    "        else:\n",
    "            pprint('{}  impossible'.format(labels))\n",
    "    pprint()\n",
    "\n",
    "    if label_combos:\n",
    "        pprint('STEP A.5 - prune out redundant possible combos')\n",
    "        pprint()\n",
    "        pprint(header)\n",
    "        pprint('-' * len(str(header)))\n",
    "        unique_label_combos = prune_combos(label_combos)\n",
    "        for combo in unique_label_combos:\n",
    "            labels,rho = combo[:-1],combo[-1]\n",
    "            pprint('{}  -> rho = {}'.format(labels, rho))\n",
    "        pprint()\n",
    "\n",
    "        pprint('STEP A.6 - incorporate boundary facets')\n",
    "        pprint()\n",
    "        boundary_facets = [f for f in facets if f not in candidate_facets]\n",
    "        header = '{} {}'.format(header, [str(set(bf)) for bf in boundary_facets])\n",
    "        pprint(header)\n",
    "        pprint('-' * len(str(header)))\n",
    "        full_label_combos = []\n",
    "        for combo in unique_label_combos:\n",
    "            labels,rho = combo[:-1],combo[-1]\n",
    "            boundary_labels = []\n",
    "            full_label_combo = deepcopy(labels)\n",
    "            for boundary_facet in boundary_facets:\n",
    "                bl = boundary_label(boundary_facet, node, C, rho)\n",
    "                boundary_labels.append(bl)\n",
    "                full_label_combo.append(bl)\n",
    "                pprint('{} {}  -> rho = {}'.format(labels, boundary_labels, rho))\n",
    "            full_label_combo.append(rho)\n",
    "            full_label_combos.append(full_label_combo)\n",
    "        pprint()\n",
    "\n",
    "        pprint('STEP A.7 - recurse into \"ADD\" and \"inward\" boundary facets')\n",
    "        pprint()\n",
    "        for combo in full_label_combos:\n",
    "            labels,rho = combo[:-1],combo[-1]\n",
    "            abort = None\n",
    "            for label,facet in zip(labels,candidate_facets + boundary_facets):\n",
    "                if label != 'ADD' and label != 'inward':\n",
    "                    continue\n",
    "                pprint('recursing into {} facet'.format(set(facet)))\n",
    "                pprint()\n",
    "                ret = simplify(k=k-1, fp_str=fp_str, fd_str=fd_str, node=facet, lattice=lattice, C=C, legal_labels=legal_labels, path='{}, ({}, {}, {})'.format(path, node, fp_str, rho))\n",
    "                abort = not ret\n",
    "                if abort:\n",
    "                    break\n",
    "                # TODO - figure out how to propagate the success back up the recusion\n",
    "                # TODO - likely, attach to the face lattice accordingly\n",
    "            if not abort:\n",
    "                successful_combos.append(combo)\n",
    "            pprint()\n",
    "        pprint()\n",
    "\n",
    "    pprint('STEP B - todo...')\n",
    "    pprint()\n",
    "    # TODO - implement step 6b from Algorithm 2 in 2006 paper\n",
    "\n",
    "    pprint('STEP C - reduction decomposition')\n",
    "    pprint()\n",
    "    # TODO - figure out how to do the decomposition\n",
    "    # TODO - i.e., how to navigate the infinite space of decompositions\n",
    "\n",
    "    possible_combos = []\n",
    "    for combo in enumerate_labels(facets, ['-', 'B']):\n",
    "        # fp = fp2*fp1\n",
    "        fp1 = decompose_projection(combo, facets, node, C)\n",
    "        if fp1:\n",
    "            if node in lattice.explored and fp1 in lattice.explored[node]:\n",
    "                pprint('{} already explored'.format(combo))\n",
    "            elif fp1:\n",
    "                add_exploration_to_lattice(fp1, node, lattice)\n",
    "                pprint('{} possible -> fp1 = {}'.format(combo, fp1))\n",
    "                possible_combos.append((combo, fp1))\n",
    "        else:\n",
    "            pprint('{} impossible'.format(combo))\n",
    "    pprint()\n",
    "\n",
    "    for combo, fp1 in possible_combos:\n",
    "        ret = simplify(k=k, fp_str=fp1, fd_str=fd_str, node=node, lattice=lattice, C=C, legal_labels=legal_labels, path='{}, ({}, {}, {})'.format(path, node, fp1, None))\n",
    "        if ret:\n",
    "            successful_combos.append(ret)\n",
    "\n",
    "    if len(successful_combos) == 0:\n",
    "        pprint('FAILURE - no successful combos')\n",
    "        return None\n",
    "    return successful_combos"
   ]
  },
  {
   "cell_type": "markdown",
   "id": "9357cf6c",
   "metadata": {},
   "source": [
    "Now if we rerun example 2 in full, we can find a successful simplification"
   ]
  },
  {
   "cell_type": "code",
   "execution_count": 29,
   "id": "dd4c8ede",
   "metadata": {
    "scrolled": false
   },
   "outputs": [
    {
     "name": "stdout",
     "output_type": "stream",
     "text": [
      "{[i,j,k] : j>=1 and i>=j and k>=1 and 0>=i+k-100 and 0>=k-100 and 0>=j-100 and 0>=i-99 and i>=1}\n",
      "\n",
      "C_hat (constraints):\n",
      "[[  1  -1   0   0]\t\t{ [i, j, k] : i - j >= 0 }\n",
      " [  0   0   1  -1]\t\t{ [i, j, k] : -1 + k >= 0 }\n",
      " [  0   1   0  -1]\t\t{ [i, j, k] : -1 + j >= 0 }\n",
      " [ -1   0  -1 100]\t\t{ [i, j, k] : 100 - i - k >= 0 }\n",
      " [  0   0   0   1]]\t\t\n",
      "\n",
      "R_hat (rays/vertices):\n",
      "[[ 1 99  1 99]\n",
      " [ 1 99  1  1]\n",
      " [ 1  1 99  1]\n",
      " [ 1  1  1  1]]\n",
      "\n",
      "Dimension:\n",
      "3\n",
      "\n",
      "3-faces: [{}]\n",
      "2-faces: [{0}, {1}, {2}, {3}]\n",
      "1-faces: [{0, 1}, {0, 2}, {0, 3}, {1, 2}, {1, 3}, {2, 3}]\n",
      "0-faces: [{0, 1, 2}, {0, 1, 3}, {0, 2, 3}, {1, 2, 3}]\n",
      "\n",
      "op = max\n",
      "['ADD', 'INV']\n",
      "set()\n",
      "\n"
     ]
    }
   ],
   "source": [
    "op = 'max'\n",
    "fp = '{[i,j,k]->[i]}'\n",
    "s = '{[i,j,k] : j>=1 and i>=j and k>=1 and 0>=i+k-100 and 0>=k-100 and 0>=j-100 and 0>=i-99 and i>=1}'\n",
    "fd = '{[i,j,k]->[j,k]}'\n",
    "\n",
    "# step 1 - construct the lattice\n",
    "C, lattice, bset, dim_P = face_lattice(s)\n",
    "\n",
    "# step 2\n",
    "legal_labels = ['ADD', 'INV']\n",
    "if inverse(op):\n",
    "    legal_labels.append('SUB')\n",
    "       \n",
    "print('op = {}'.format(op))\n",
    "print(legal_labels)\n",
    "\n",
    "# step 3\n",
    "root = lattice.get_root()\n",
    "print(set(root))\n",
    "print()\n",
    "\n",
    "# step 4\n",
    "#simplify(k=1, fp_str=fp, fd_str=fd, node=root, lattice=lattice, C=C, legal_labels=legal_labels)"
   ]
  },
  {
   "cell_type": "code",
   "execution_count": 30,
   "id": "4df9f28c",
   "metadata": {},
   "outputs": [
    {
     "name": "stdout",
     "output_type": "stream",
     "text": [
      "{[i,j,k,l] : i=j and k=2j and l=4j }\n",
      "\n",
      "C_hat (constraints):\n",
      "[[-4  0  0  1  0]\t\t{ [i, j, k, l] : -4i + l = 0 }\n",
      " [-2  0  1  0  0]\t\t{ [i, j, k, l] : -2i + k = 0 }\n",
      " [-1  1  0  0  0]\t\t{ [i, j, k, l] : -i + j = 0 }\n",
      " [ 0  0  0  0  1]]\t\t\n",
      "\n",
      "R_hat (rays/vertices):\n",
      "[[1 0]\n",
      " [1 0]\n",
      " [2 0]\n",
      " [4 0]\n",
      " [0 1]]\n",
      "\n",
      "Dimension:\n",
      "4\n",
      "\n",
      "4-faces: [{}]\n",
      "3-faces: []\n",
      "2-faces: []\n",
      "1-faces: []\n",
      "0-faces: []\n",
      "\n"
     ]
    },
    {
     "data": {
      "text/plain": [
       "(array([[-4,  0,  0,  1,  0],\n",
       "        [-2,  0,  1,  0,  0],\n",
       "        [-1,  1,  0,  0,  0]]),\n",
       " <face_lattice.FaceLattice at 0x11d4eadd8>,\n",
       " BasicSet(\"{ [i, j, k, l] : j = i and k = 2i and l = 4i }\"),\n",
       " 4)"
      ]
     },
     "execution_count": 30,
     "metadata": {},
     "output_type": "execute_result"
    }
   ],
   "source": [
    "face_lattice('{[i,j,k,l] : i=j and k=2j and l=4j }')"
   ]
  },
  {
   "cell_type": "code",
   "execution_count": null,
   "id": "a9560ee6",
   "metadata": {},
   "outputs": [],
   "source": []
  }
 ],
 "metadata": {
  "kernelspec": {
   "display_name": "Python 3 (ipykernel)",
   "language": "python",
   "name": "python3"
  },
  "language_info": {
   "codemirror_mode": {
    "name": "ipython",
    "version": 3
   },
   "file_extension": ".py",
   "mimetype": "text/x-python",
   "name": "python",
   "nbconvert_exporter": "python",
   "pygments_lexer": "ipython3",
   "version": "3.7.4"
  }
 },
 "nbformat": 4,
 "nbformat_minor": 5
}
