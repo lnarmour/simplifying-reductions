{
 "cells": [
  {
   "cell_type": "markdown",
   "id": "0aa492e0",
   "metadata": {},
   "source": [
    "## Simplification\n",
    "\n",
    "Consider an input reduction expression with:\n",
    "* polyhedron $P$ with $d$ indices, $q$ parameters, and $e$ equality constraints representing the context domain\n",
    "* projection function $f_{p}: Z^{d} \\rightarrow Z^{d-k}$\n",
    "* dependence function $f_{d}: Z^{d} \\rightarrow Z^{d-l}$  (there are $l$ dimensions of reuse)\n",
    "* face lattice, $L$, of $P$\n",
    "\n",
    "For simplicity here, let $e=0$.  Call `simplify(L.root, fp, fd, l)`\n",
    "\n",
    "\n",
    "### `simplify(node, fp, fd, l):`\n",
    "\n",
    "1. if $l=0$ then return success\n",
    "1. construct feasible reuse space for each possible labeling, given $f_p$ and $f_d$. Then select a $\\rho$, recurse into all necessary facets of node; i.e., call `simplify(facet, fp, fd, l-1)` for each facet. If all facets succeed, report success and $\\rho$.\n",
    "1. if previous step fails, construct list of splitting affine expressions. For each split, recurse into each half space; call `simplify(half, fp, fd, l)` for each hafl. If both halfs success, report affine expression.\n",
    "1. if previous step fails, do reduction decomposition ($f_{p} = f_{p}'' \\circ f_{p}'$ to transform each weak boundary facet into a strict boundary facet and recurse on node again; i.e., call `simplify(node, fp', fd, l)` for each $f_{p}'$. If recusion returns success, report $f_{p}'$."
   ]
  },
  {
   "cell_type": "markdown",
   "id": "f7e2f122",
   "metadata": {},
   "source": [
    "## Index set splitting\n",
    "\n",
    "Split to introduce either new strict boundary facets (i.e., along $f_{p}$) or invariant facets (i.e., along $f_{d}$).\n",
    "\n",
    "For a particular facet in the lattice, **given**:\n",
    "* function $f: Z^{d} \\rightarrow Z^{d-k}$\n",
    "* vertices $V$ of the facet (where there are $N_{V}$ vertices)\n",
    "\n",
    "**Want**: construct the affine expression characterizing the split through some of the vertices\n",
    "\n",
    "**How**: construct the ($d-1$)-dimensional polyhedron containing $\\rm{ker}(f)$ and some of the vertices and obtain the affine expression from its single equality constraint.\n",
    "\n",
    "**Procedure** to obtain list of candidate splits:  \n",
    "For each combo $C$ of ($d-1-k$) choose ($N_{V}$):\n",
    "1. $p_{0} \\leftarrow$ any point from $\\rm{ker}(f)$\n",
    "1. $v_{0} \\leftarrow$ any vertex from $C$\n",
    "1. $m \\leftarrow$ map from $p_{0}$ to $v_{0}$\n",
    "1. $S \\leftarrow m(\\rm{ker}(f))$  (i.e., the kernel of $f$ translated to one of the vertices in $C$)\n",
    "1. $T \\leftarrow \\{ v_{0}; \\ldots ; v_{d-2-k} \\}$\n",
    "1. $A \\leftarrow \\rm{hull}(S \\cup T)$\n",
    "1. if rank of $A$ is $d-1$, then there is exactly **one** equality in $A$  \n",
    "   Use affine expression of the equality constraint as the cadidate splitting hyperplane\n",
    "\n",
    "For each candidate split, produce two halves of $P$ and recurse into each half with `simplify(half, fp, fd, l)`."
   ]
  },
  {
   "cell_type": "markdown",
   "id": "e26c7f7e",
   "metadata": {},
   "source": [
    "# This doesn't work with parametric vertices!\n",
    "\n",
    "Steps 3 and 5 are not always possible, because the maps cannot be constructed.\n"
   ]
  },
  {
   "cell_type": "code",
   "execution_count": null,
   "id": "f86b656a",
   "metadata": {},
   "outputs": [],
   "source": []
  }
 ],
 "metadata": {
  "kernelspec": {
   "display_name": "Python 3 (ipykernel)",
   "language": "python",
   "name": "python3"
  },
  "language_info": {
   "codemirror_mode": {
    "name": "ipython",
    "version": 3
   },
   "file_extension": ".py",
   "mimetype": "text/x-python",
   "name": "python",
   "nbconvert_exporter": "python",
   "pygments_lexer": "ipython3",
   "version": "3.7.4"
  }
 },
 "nbformat": 4,
 "nbformat_minor": 5
}
